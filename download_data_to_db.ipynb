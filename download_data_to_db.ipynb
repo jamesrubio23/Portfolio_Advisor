{
 "cells": [
  {
   "cell_type": "markdown",
   "metadata": {},
   "source": [
    "After creating the database the next step is to create the automatitazion of downloading data from yfinance and finvizfinance and store it in the database"
   ]
  },
  {
   "cell_type": "code",
   "execution_count": 36,
   "metadata": {},
   "outputs": [],
   "source": [
    "from sqlalchemy import create_engine\n",
    "import pandas as pd\n",
    "import yfinance as yf\n",
    "from finvizfinance.quote import finvizfinance\n",
    "\n",
    "import os\n",
    "from sqlalchemy import create_engine, text\n",
    "from dotenv import load_dotenv\n",
    "\n",
    "from urllib.parse import quote # If the password contains weird letter\n"
   ]
  },
  {
   "cell_type": "code",
   "execution_count": 37,
   "metadata": {},
   "outputs": [],
   "source": [
    "def connect_db():\n",
    "\n",
    "\n",
    "    load_dotenv()\n",
    "\n",
    "    USER = os.getenv(\"DB_USER\")\n",
    "    PASSWORD = quote(os.getenv(\"DB_PASSWORD\"))\n",
    "    HOST = os.getenv(\"DB_HOST\")\n",
    "    PORT = os.getenv(\"DB_PORT\")\n",
    "    DB_NAME = os.getenv(\"DB_NAME\")\n",
    "    \n",
    "\n",
    "    engine = create_engine(f\"postgresql://{USER}:{PASSWORD}@{HOST}:{PORT}/{DB_NAME}\")\n",
    "    return engine\n",
    "\n",
    "\n",
    "\n",
    "\n"
   ]
  },
  {
   "cell_type": "code",
   "execution_count": 38,
   "metadata": {},
   "outputs": [
    {
     "data": {
      "text/plain": [
       "<function __main__.connect_db()>"
      ]
     },
     "execution_count": 38,
     "metadata": {},
     "output_type": "execute_result"
    }
   ],
   "source": [
    "connect_db"
   ]
  },
  {
   "cell_type": "code",
   "execution_count": 39,
   "metadata": {},
   "outputs": [
    {
     "name": "stdout",
     "output_type": "stream",
     "text": [
      "✅ Connection successful!\n"
     ]
    }
   ],
   "source": [
    "import psycopg2\n",
    "\n",
    "load_dotenv()\n",
    "\n",
    "USER = os.getenv(\"DB_USER\")\n",
    "PASSWORD = os.getenv(\"DB_PASSWORD\")\n",
    "HOST = os.getenv(\"DB_HOST\")\n",
    "PORT = os.getenv(\"DB_PORT\")\n",
    "DB_NAME = os.getenv(\"DB_NAME\")\n",
    "\n",
    "try:\n",
    "    conn = psycopg2.connect(\n",
    "        dbname=\"portfolio_optimizer\",\n",
    "        user=\"postgres\",\n",
    "        password=PASSWORD,  # Reemplaza con tu contraseña real\n",
    "        host=\"127.0.0.1\",  # Prueba con 127.0.0.1 en vez de localhost\n",
    "        port=\"5432\"\n",
    "    )\n",
    "    print(\"✅ Connection successful!\")\n",
    "    conn.close()\n",
    "except Exception as e:\n",
    "    print(f\"❌ Connection failed: {e}\")\n"
   ]
  },
  {
   "cell_type": "code",
   "execution_count": 40,
   "metadata": {},
   "outputs": [
    {
     "name": "stdout",
     "output_type": "stream",
     "text": [
      "✅ SQLAlchemy connection successful!\n"
     ]
    }
   ],
   "source": [
    "from sqlalchemy import create_engine, text\n",
    "\n",
    "load_dotenv()\n",
    "\n",
    "USER = os.getenv(\"DB_USER\")\n",
    "PASSWORD = quote(os.getenv(\"DB_PASSWORD\"))\n",
    "HOST = os.getenv(\"DB_HOST\")\n",
    "PORT = os.getenv(\"DB_PORT\")\n",
    "DB_NAME = os.getenv(\"DB_NAME\")\n",
    "\n",
    "try:\n",
    "    engine = create_engine(f\"postgresql+psycopg2://{USER}:{PASSWORD}@{HOST}:{PORT}/{DB_NAME}\")\n",
    "    with engine.connect() as conn:\n",
    "        conn.execute(text(\"SELECT 1\"))\n",
    "    print(\"✅ SQLAlchemy connection successful!\")\n",
    "except Exception as e:\n",
    "    print(f\"❌ SQLAlchemy connection failed: {e}\")\n"
   ]
  },
  {
   "cell_type": "markdown",
   "metadata": {},
   "source": [
    "# Other functions"
   ]
  },
  {
   "cell_type": "code",
   "execution_count": null,
   "metadata": {},
   "outputs": [],
   "source": [
    "## Funxtion needed to eliminate the sublevels and multindex dataframe to insert data coirrectly. For example in Historical prices\n",
    "def preprocess_stock_data(stock_data):\n",
    "    stock_data.columns = stock_data.columns.droplevel(1)\n",
    "\n",
    "    stock_data.columns.name = None\n",
    "\n",
    "    stock_data.index.name = None\n",
    "\n",
    "    return stock_data"
   ]
  },
  {
   "cell_type": "markdown",
   "metadata": {},
   "source": [
    "# analyst_recommendations"
   ]
  },
  {
   "cell_type": "code",
   "execution_count": 41,
   "metadata": {},
   "outputs": [],
   "source": [
    "def store_analyst_recommendations(ticker):\n",
    "    engine = connect_db()\n",
    "    \n",
    "    dat = yf.Ticker(ticker)\n",
    "    \n",
    "    df = pd.DataFrame([dat.analyst_price_targets])\n",
    "    \n",
    "    df['Date'] = pd.Timestamp.today()\n",
    "    df[\"ticker\"] = ticker\n",
    "    df = df.rename(columns={\"Date\": \"date\", \"current\": \"latest_stock_price\", \"high\": \"high_target\",\n",
    "                            \"low\": \"low_target\", \"mean\": \"mean_target\", \"median\": \"median_target\"})\n",
    "    \n",
    "    df.to_sql(\"analyst_recommendations\", engine, if_exists=\"append\", index=False)\n",
    "    print(f\"Data{ticker} inserted in analyst_recommendations.\")\n",
    "\n",
    "\n",
    "\n",
    "def delete_analyst_recommendations(ticker):\n",
    "    engine = connect_db()\n",
    "    with engine.connect() as conn:\n",
    "        conn.execute(text(\"DELETE FROM analyst_recommendations WHERE ticker = :ticker\"), {\"ticker\": ticker})\n",
    "        conn.commit()\n",
    "    print(f\"Datos históricos de {ticker} eliminados de analyst_recommendations.\")"
   ]
  },
  {
   "cell_type": "markdown",
   "metadata": {},
   "source": [
    "# analyst_recommendations_period"
   ]
  },
  {
   "cell_type": "code",
   "execution_count": 42,
   "metadata": {},
   "outputs": [],
   "source": [
    "def store_analyst_recommendations_period(ticker):\n",
    "    engine = connect_db()\n",
    "    \n",
    "    dat = yf.Ticker(ticker)\n",
    "\n",
    "    recommendations = dat.recommendations_summary\n",
    "    if recommendations is None:\n",
    "        print(f\"No hay datos de recomendaciones de analistas para {ticker}.\")\n",
    "        return\n",
    "\n",
    "    df = pd.DataFrame([recommendations])\n",
    "\n",
    "    df[\"ticker\"] = ticker\n",
    "    df[\"date\"] = pd.Timestamp.today()\n",
    "\n",
    "\n",
    "    df = df.rename(columns={\n",
    "        \"strongBuy\": \"strong_buy\",\n",
    "        \"buy\": \"buy\",\n",
    "        \"hold\": \"hold\",\n",
    "        \"sell\": \"sell\",\n",
    "        \"strongSell\": \"strong_sell\"\n",
    "    })\n",
    "\n",
    "    df.to_sql(\"analyst_recommendations_period\", engine, if_exists=\"append\", index=False)\n",
    "    print(f\"Datos de {ticker} insertados en analyst_recommendations_period.\")\n",
    "\n",
    "\n",
    "def delete_analyst_recommendations_period(ticker):\n",
    "    \"\"\"Elimina las recomendaciones de analistas de un ticker específico en la base de datos.\"\"\"\n",
    "    engine = connect_db()\n",
    "    with engine.connect() as conn:\n",
    "        conn.execute(text(\"DELETE FROM analyst_recommendations_period WHERE ticker = :ticker\"), {\"ticker\": ticker})\n",
    "        conn.commit()\n",
    "    print(f\"Datos de {ticker} eliminados de analyst_recommendations_period.\")"
   ]
  },
  {
   "cell_type": "markdown",
   "metadata": {},
   "source": [
    "# Company info"
   ]
  },
  {
   "cell_type": "code",
   "execution_count": 43,
   "metadata": {},
   "outputs": [],
   "source": [
    "def store_company_info(ticker):\n",
    "\n",
    "    engine = connect_db()\n",
    "    stock = yf.Ticker(ticker)\n",
    "    info = stock.info\n",
    "    \n",
    "    df = pd.DataFrame([{\n",
    "        \"ticker\": ticker,\n",
    "        \"name\": info.get(\"longName\", \"\"),\n",
    "        \"sector\": info.get(\"sector\", \"\"),\n",
    "        \"industry\": info.get(\"industry\", \"\"),\n",
    "        \"market_cap\": info.get(\"marketCap\"),\n",
    "        \"enterprise_value\": info.get(\"enterpriseValue\"),\n",
    "        \"total_revenue\": info.get(\"totalRevenue\"),\n",
    "        \"ebitda\": info.get(\"ebitda\"),\n",
    "        \"net_income\": info.get(\"netIncomeToCommon\"),\n",
    "        \"total_debt\": info.get(\"totalDebt\"),\n",
    "        \"free_cashflow\": info.get(\"freeCashflow\"),\n",
    "        \"return_on_assets\": info.get(\"returnOnAssets\"),\n",
    "        \"return_on_equity\": info.get(\"returnOnEquity\"),\n",
    "        \"trailing_pe\": info.get(\"trailingPE\"),\n",
    "        \"forward_pe\": info.get(\"forwardPE\"),\n",
    "        \"price_to_sales\": info.get(\"priceToSalesTrailing12Months\"),\n",
    "        \"price_to_book\": info.get(\"priceToBook\"),\n",
    "        \"dividend_rate\": info.get(\"dividendRate\"),\n",
    "        \"dividend_yield\": info.get(\"dividendYield\"),\n",
    "        \"payout_ratio\": info.get(\"payoutRatio\"),\n",
    "        \"shares_outstanding\": info.get(\"sharesOutstanding\"),\n",
    "        \"held_percent_institutions\": info.get(\"heldPercentInstitutions\"),\n",
    "        \"held_percent_insiders\": info.get(\"heldPercentInsiders\"),\n",
    "        \"beta\": info.get(\"beta\"),\n",
    "        \"fifty_two_week_high\": info.get(\"fiftyTwoWeekHigh\"),\n",
    "        \"fifty_two_week_low\": info.get(\"fiftyTwoWeekLow\"),\n",
    "        \"earnings_growth\": info.get(\"earningsGrowth\"),\n",
    "        \"revenue_growth\": info.get(\"revenueGrowth\"),\n",
    "        \"profit_margins\": info.get(\"profitMargins\"),\n",
    "        \"gross_margins\": info.get(\"grossMargins\"),\n",
    "        \"operating_margins\": info.get(\"operatingMargins\"),\n",
    "        \"ebitda_margins\": info.get(\"ebitdaMargins\"),\n",
    "        \"target_high_price\": info.get(\"targetHighPrice\"),\n",
    "        \"target_low_price\": info.get(\"targetLowPrice\"),\n",
    "        \"target_mean_price\": info.get(\"targetMeanPrice\"),\n",
    "        \"recommendation_mean\": info.get(\"recommendationMean\"),\n",
    "        \"recommendation_key\": info.get(\"recommendationKey\"),\n",
    "        \"number_of_analyst_opinions\": info.get(\"numberOfAnalystOpinions\"),\n",
    "    }])\n",
    "\n",
    "\n",
    "    df.to_sql(\"company_info\", engine, if_exists=\"append\", index=False)\n",
    "    print(f\"Datos de {ticker} insertados en company_info.\")\n",
    "\n",
    "\n",
    "\n",
    "\n",
    "\n",
    "def delete_company_info(ticker):\n",
    "    engine = connect_db()\n",
    "    with engine.connect() as conn:\n",
    "        conn.execute(text(\"DELETE FROM company_info WHERE ticker = :ticker\"), {\"ticker\": ticker})\n",
    "        conn.commit()\n",
    "    print(f\"Información de {ticker} eliminada de company_info.\")"
   ]
  },
  {
   "cell_type": "markdown",
   "metadata": {},
   "source": [
    "# funds_holding"
   ]
  },
  {
   "cell_type": "code",
   "execution_count": 44,
   "metadata": {},
   "outputs": [],
   "source": [
    "\n",
    "\n",
    "def store_funds_holding(ticker, fund=\"SPY\"):\n",
    "    engine = connect_db()\n",
    "    \n",
    "    spy= yf.Ticker('SPY').funds_data\n",
    "    df = spy.top_holdings\n",
    "    \n",
    "    df = df.reset_index()\n",
    "    df['Date'] = pd.Timestamp.today()\n",
    "    df[\"fund_ticker\"] = ticker\n",
    "    df = df.rename(columns={\"Date\": \"date_reported\", \"Holding Percent\": \"holding_percent\"})\n",
    "    \n",
    "    df.to_sql(\"funds_holding\", engine, if_exists=\"append\", index=False)\n",
    "    print(f\"Data{ticker} inserted in funds_holding.\")\n",
    "\n",
    "\n",
    "\n",
    "def delete_funds_holding(ticker):\n",
    "    engine = connect_db()\n",
    "    with engine.connect() as conn:\n",
    "        conn.execute(text(\"DELETE FROM funds_holding WHERE ticker = :ticker\"), {\"ticker\": ticker})\n",
    "        conn.commit()\n",
    "    print(f\"Datos históricos de {ticker} eliminados de funds_holding.\")"
   ]
  },
  {
   "cell_type": "markdown",
   "metadata": {},
   "source": [
    "# Historical prices"
   ]
  },
  {
   "cell_type": "code",
   "execution_count": 69,
   "metadata": {},
   "outputs": [],
   "source": [
    "def store_historical_prices(ticker, period_given=\"5y\"):\n",
    "    engine = connect_db()\n",
    "    \n",
    "    df = yf.download(ticker, period=period_given)\n",
    "    \n",
    "    df = df.reset_index()\n",
    "    df[\"ticker\"] = ticker\n",
    "\n",
    "    df = df.rename(columns={\"Date\": \"date\", \"Open\": \"open_price\", \"High\": \"high_price\",\n",
    "                            \"Low\": \"low_price\", \"Close\": \"close_price\",\n",
    "                            \"Volume\": \"volume\"})\n",
    "    df=preprocess_stock_data(df)\n",
    "\n",
    "    df.to_sql(\"historical_prices\", engine, if_exists=\"append\", index=False)\n",
    "\n",
    "    \n",
    "    print(f\"Data{ticker} inserted in historical_prices.\")\n",
    "\n",
    "\n",
    "\n",
    "def delete_historical_prices(ticker):\n",
    "    engine = connect_db()\n",
    "    with engine.connect() as conn:\n",
    "        conn.execute(text(\"DELETE FROM historical_prices WHERE ticker = :ticker\"), {\"ticker\": ticker})\n",
    "        conn.commit()\n",
    "    print(f\"Datos históricos de {ticker} eliminados de historical_prices.\")"
   ]
  },
  {
   "cell_type": "markdown",
   "metadata": {},
   "source": [
    "# institutional_shareholders"
   ]
  },
  {
   "cell_type": "code",
   "execution_count": 46,
   "metadata": {},
   "outputs": [],
   "source": [
    "def store_institutional_shareholders(ticker):\n",
    "    engine = connect_db()\n",
    "\n",
    "    stock = yf.Ticker(ticker)\n",
    "    \n",
    "    if not hasattr(stock, \"institutional_holders\") or stock.institutional_holders is None:\n",
    "        print(f\"No se encontraron datos de accionistas institucionales para {ticker}.\")\n",
    "        return\n",
    "\n",
    "    df = stock.institutional_holders.copy()\n",
    "    \n",
    "    df[\"date_reported\"] = pd.Timestamp.today().date()\n",
    "    df[\"ticker\"] = ticker\n",
    "    df = df.rename(columns={\"Holder\": \"holder\", \"% Out\": \"pct_held\", \"Shares\": \"shares\", \n",
    "                            \"Value\": \"value\", \"Pct Change\": \"pct_change\"})\n",
    "\n",
    "    df = df[[\"ticker\", \"date_reported\", \"holder\", \"pct_held\", \"shares\", \"value\", \"pct_change\"]]\n",
    "\n",
    "    df.to_sql(\"institutional_shareholders\", engine, if_exists=\"append\", index=False)\n",
    "    print(f\"Data for {ticker} inserted in institutional_shareholders.\")\n",
    "\n",
    "\n",
    "def delete_institutional_shareholders(ticker):\n",
    "    engine = connect_db()\n",
    "    with engine.connect() as conn:\n",
    "        conn.execute(text(\"DELETE FROM institutional_shareholders WHERE ticker = :ticker\"), {\"ticker\": ticker})\n",
    "        conn.commit()\n",
    "    print(f\"Datos históricos de {ticker} eliminados de institutional_shareholders.\")"
   ]
  },
  {
   "cell_type": "markdown",
   "metadata": {},
   "source": [
    "# News"
   ]
  },
  {
   "cell_type": "code",
   "execution_count": 47,
   "metadata": {},
   "outputs": [],
   "source": [
    "def store_news_data(ticker):\n",
    "    engine = connect_db()\n",
    "    \n",
    "    stock = finvizfinance(ticker)\n",
    "    news_df = stock.ticker_news()\n",
    "    \n",
    "    news_df = news_df.reset_index()\n",
    "    news_df[\"ticker\"] = ticker\n",
    "    news_df = news_df.rename(columns={\"Date\": \"date\", \"Title\":\"headline\", \"Link\":\"link\", \"Source\":\"source\"})\n",
    "    \n",
    "    news_df.to_sql(\"news_data\", engine, if_exists=\"append\", index=False)\n",
    "    print(f\"Data{ticker} inserted in news_data.\")\n",
    "\n",
    "def delete_news_data(ticker):\n",
    "    engine = connect_db()\n",
    "    with engine.connect() as conn:\n",
    "        conn.execute(text(\"DELETE FROM news_data WHERE ticker = :ticker\"), {\"ticker\": ticker})\n",
    "        conn.commit()\n",
    "    print(f\"Data from {ticker} eliminated from news_data.\")"
   ]
  },
  {
   "cell_type": "markdown",
   "metadata": {},
   "source": [
    "# options_data"
   ]
  },
  {
   "cell_type": "code",
   "execution_count": 48,
   "metadata": {},
   "outputs": [],
   "source": [
    "def store_options_data(ticker):\n",
    "    engine = connect_db()\n",
    "\n",
    "    stock = yf.Ticker(ticker)\n",
    "    \n",
    "    try:\n",
    "        options_dates = stock.options  \n",
    "        all_options = []\n",
    "\n",
    "        for date in options_dates:\n",
    "            opt_chain = stock.option_chain(date)\n",
    "            calls = opt_chain.calls\n",
    "            puts = opt_chain.puts\n",
    "\n",
    "            calls[\"option_type\"] = \"call\"\n",
    "            puts[\"option_type\"] = \"put\"\n",
    "\n",
    "            df = pd.concat([calls, puts])\n",
    "\n",
    "            df[\"ticker\"] = ticker\n",
    "            df[\"last_trade_date\"] = pd.to_datetime(df[\"lastTradeDate\"])\n",
    "            df = df.rename(columns={\n",
    "                \"contractSymbol\": \"contract_symbol\",\n",
    "                \"strike\": \"strike\",\n",
    "                \"lastPrice\": \"last_price\",\n",
    "                \"bid\": \"bid\",\n",
    "                \"ask\": \"ask\",\n",
    "                \"change\": \"change\",\n",
    "                \"percentChange\": \"percent_change\",\n",
    "                \"volume\": \"volume\",\n",
    "                \"openInterest\": \"open_interest\",\n",
    "                \"impliedVolatility\": \"implied_volatility\",\n",
    "                \"inTheMoney\": \"in_the_money\",\n",
    "                \"contractSize\": \"contract_size\",\n",
    "                \"currency\": \"currency\"\n",
    "            })\n",
    "            \n",
    "            df = df[[\"contract_symbol\", \"ticker\", \"last_trade_date\", \"strike\", \"last_price\", \"bid\", \"ask\",\n",
    "                     \"change\", \"percent_change\", \"volume\", \"open_interest\", \"implied_volatility\", \n",
    "                     \"in_the_money\", \"contract_size\", \"currency\"]]\n",
    "            \n",
    "            all_options.append(df)\n",
    "\n",
    "        final_df = pd.concat(all_options)\n",
    "        final_df.to_sql(\"options_data\", engine, if_exists=\"append\", index=False)\n",
    "        print(f\"Options data for {ticker} inserted in options_data.\")\n",
    "\n",
    "    except Exception as e:\n",
    "        print(f\"Error al obtener datos de opciones para {ticker}: {e}\")\n",
    "\n",
    "\n",
    "def delete_options_data(ticker):\n",
    "    engine = connect_db()\n",
    "    with engine.connect() as conn:\n",
    "        conn.execute(text(\"DELETE FROM options_data WHERE ticker = :ticker\"), {\"ticker\": ticker})\n",
    "        conn.commit()\n",
    "    print(f\"Data from de {ticker} eliminated from options_data.\")"
   ]
  },
  {
   "cell_type": "markdown",
   "metadata": {},
   "source": [
    "# quarterly_financials"
   ]
  },
  {
   "cell_type": "code",
   "execution_count": 49,
   "metadata": {},
   "outputs": [],
   "source": [
    "\n",
    "def store_quarterly_financials(ticker):\n",
    "    engine = connect_db()\n",
    "\n",
    "    stock = yf.Ticker(ticker)\n",
    "    \n",
    "    if not hasattr(stock, \"quarterly_financials\") or stock.quarterly_financials.empty:\n",
    "        print(f\"No se encontraron datos financieros trimestrales para {ticker}.\")\n",
    "        return\n",
    "\n",
    "    df = stock.quarterly_financials.transpose().reset_index()\n",
    "    df[\"date_reported\"] = pd.to_datetime(df[\"index\"])\n",
    "    df[\"ticker\"] = ticker\n",
    "\n",
    "    df = df.rename(columns={\n",
    "        \"Total Revenue\": \"total_revenue\",\n",
    "        \"Operating Revenue\": \"operating_revenue\",\n",
    "        \"Cost of Revenue\": \"cost_of_revenue\",\n",
    "        \"Gross Profit\": \"gross_profit\",\n",
    "        \"Operating Expense\": \"operating_expense\",\n",
    "        \"Research And Development\": \"research_and_development\",\n",
    "        \"Selling General And Admin\": \"selling_general_and_admin\",\n",
    "        \"Selling And Marketing Expenses\": \"selling_and_marketing_expenses\",\n",
    "        \"General And Admin Expense\": \"general_and_admin_expense\",\n",
    "        \"Other Gand A\": \"other_gand_a\",\n",
    "        \"Operating Income\": \"operating_income\",\n",
    "        \"Interest Income Non Operating\": \"interest_income_non_operating\",\n",
    "        \"Interest Expense Non Operating\": \"interest_expense_non_operating\",\n",
    "        \"Net Non Operating Interest Income\": \"net_non_operating_interest_income\",\n",
    "        \"Gain On Sale Of Security\": \"gain_on_sale_of_security\",\n",
    "        \"Write Off\": \"write_off\",\n",
    "        \"Special Income Charges\": \"special_income_charges\",\n",
    "        \"Other Non Operating Income Expense\": \"other_non_operating_income_expense\",\n",
    "        \"Other Income Expense\": \"other_income_expense\",\n",
    "        \"Pretax Income\": \"pretax_income\",\n",
    "        \"Tax Provision\": \"tax_provision\",\n",
    "        \"Net Income Continuous Operations\": \"net_income_continuous_operations\",\n",
    "        \"Net Income Incl Noncontrolling\": \"net_income_incl_noncontrolling\",\n",
    "        \"Net Income\": \"net_income\",\n",
    "        \"Net Income Common Stockholders\": \"net_income_common_stockholders\",\n",
    "        \"Diluted Ni Availto Com Stockholders\": \"diluted_ni_avilto_com_stockholders\",\n",
    "        \"Basic EPS\": \"basic_eps\",\n",
    "        \"Diluted EPS\": \"diluted_eps\",\n",
    "        \"Basic Avg Shares\": \"basic_avg_shares\",\n",
    "        \"Diluted Avg Shares\": \"diluted_avg_shares\",\n",
    "        \"Total Operating Income\": \"total_operating_income\",\n",
    "        \"Total Expenses\": \"total_expenses\",\n",
    "        \"Net Income Cont Discont Oper\": \"net_income_cont_discont_oper\",\n",
    "        \"Normalized Income\": \"normalized_income\",\n",
    "        \"Interest Income\": \"interest_income\",\n",
    "        \"Interest Expense\": \"interest_expense\",\n",
    "        \"Net Interest Income\": \"net_interest_income\",\n",
    "        \"EBIT\": \"ebit\",\n",
    "        \"EBITDA\": \"ebitda\",\n",
    "        \"Reconciled Cost Of Revenue\": \"reconciled_cost_of_revenue\",\n",
    "        \"Reconciled Depreciation\": \"reconciled_depreciation\",\n",
    "        \"Net Income Cont Operation\": \"net_income_cont_operation\",\n",
    "        \"Total Unusual Items Excl Goodwill\": \"total_unusual_items_excl_goodwill\",\n",
    "        \"Total Unusual Items\": \"total_unusual_items\",\n",
    "        \"Normalized EBITDA\": \"normalized_ebitda\",\n",
    "        \"Tax Rate For Calcs\": \"tax_rate_for_calcs\",\n",
    "        \"Tax Effect Of Unusual Items\": \"tax_effect_of_unusual_items\"\n",
    "    })\n",
    "\n",
    "    df = df.drop(columns=[\"index\"])\n",
    "    \n",
    "    df.to_sql(\"quarterly_financials\", engine, if_exists=\"append\", index=False)\n",
    "    print(f\"Quarterly financials data for {ticker} inserted in quarterly_financials.\")\n",
    "\n",
    "\n",
    "def delete_quarterly_financials(ticker):\n",
    "    engine = connect_db()\n",
    "    with engine.connect() as conn:\n",
    "        conn.execute(text(\"DELETE FROM quarterly_financials WHERE ticker = :ticker\"), {\"ticker\": ticker})\n",
    "        conn.commit()\n",
    "    print(f\"Data from de {ticker} eliminated from quarterly_financials.\")\n"
   ]
  },
  {
   "cell_type": "markdown",
   "metadata": {},
   "source": [
    "# Get Data"
   ]
  },
  {
   "cell_type": "code",
   "execution_count": 50,
   "metadata": {},
   "outputs": [],
   "source": [
    "def get_data(ticker):\n",
    "    print(f\"Fetching data for {ticker}...\")\n",
    "\n",
    "    store_historical_prices(ticker)\n",
    "    print(f\"Historical prices for {ticker} stored successfully.\")\n",
    "\n",
    "    store_funds_holding(ticker)\n",
    "    print(f\"Funds holdings for {ticker} stored successfully.\")\n",
    "\n",
    "    store_institutional_shareholders(ticker)\n",
    "    print(f\"Institutional shareholders for {ticker} stored successfully.\")\n",
    "\n",
    "    store_options_data(ticker)\n",
    "    print(f\"Options data for {ticker} stored successfully.\")\n",
    "\n",
    "    store_quarterly_financials(ticker)\n",
    "    print(f\"Quarterly financials for {ticker} stored successfully.\")\n",
    "\n",
    "    store_analyst_recommendations(ticker)\n",
    "    print(f\"Analyst recommendations for {ticker} stored successfully.\")\n",
    "\n",
    "    store_analyst_recommendations_period(ticker)\n",
    "    print(f\"Analyst recommendations period for {ticker} stored successfully.\")\n",
    "\n",
    "    store_company_info(ticker)\n",
    "    print(f\"Company info for {ticker} stored successfully.\")\n",
    "\n",
    "    store_news_data(ticker)\n",
    "    print(f\"News data for {ticker} stored successfully.\")\n",
    "\n",
    "    print(f\"All data for {ticker} has been stored successfully.\")\n",
    "\n"
   ]
  },
  {
   "cell_type": "code",
   "execution_count": 51,
   "metadata": {},
   "outputs": [],
   "source": [
    "def eliminate_data():\n",
    "    \"\"\"Vacía por completo todas las tablas de la base de datos.\"\"\"\n",
    "    engine = connect_db()\n",
    "    tables = [\n",
    "        \"historical_prices\",\n",
    "        \"funds_holdings\",\n",
    "        \"institutional_shareholders\",\n",
    "        \"options_data\",\n",
    "        \"quarterly_financials\",\n",
    "        \"analyst_recommendations\",\n",
    "        \"analyst_recommendations_period\",\n",
    "        \"company_info\",\n",
    "        \"news_data\"\n",
    "    ]\n",
    "\n",
    "    with engine.connect() as conn:\n",
    "        for table in tables:\n",
    "            conn.execute(text(f\"DELETE FROM {table}\"))\n",
    "            conn.commit()\n",
    "            print(f\"Table {table} has been emptied.\")\n",
    "\n",
    "    print(\"All tables have been emptied successfully.\")"
   ]
  },
  {
   "cell_type": "markdown",
   "metadata": {},
   "source": [
    "# Experiment"
   ]
  },
  {
   "cell_type": "code",
   "execution_count": 71,
   "metadata": {},
   "outputs": [],
   "source": [
    "ticker ='MSFT'"
   ]
  },
  {
   "cell_type": "code",
   "execution_count": 72,
   "metadata": {},
   "outputs": [
    {
     "name": "stdout",
     "output_type": "stream",
     "text": [
      "Fetching data for MSFT...\n"
     ]
    },
    {
     "name": "stderr",
     "output_type": "stream",
     "text": [
      "[*********************100%***********************]  1 of 1 completed\n"
     ]
    },
    {
     "name": "stdout",
     "output_type": "stream",
     "text": [
      "DataMSFT inserted in historical_prices.\n",
      "Historical prices for MSFT stored successfully.\n",
      "DataMSFT inserted in funds_holding.\n",
      "Funds holdings for MSFT stored successfully.\n"
     ]
    },
    {
     "ename": "KeyError",
     "evalue": "\"['pct_held', 'pct_change'] not in index\"",
     "output_type": "error",
     "traceback": [
      "\u001b[1;31m---------------------------------------------------------------------------\u001b[0m",
      "\u001b[1;31mKeyError\u001b[0m                                  Traceback (most recent call last)",
      "Cell \u001b[1;32mIn[72], line 1\u001b[0m\n\u001b[1;32m----> 1\u001b[0m \u001b[43mget_data\u001b[49m\u001b[43m(\u001b[49m\u001b[43mticker\u001b[49m\u001b[43m)\u001b[49m\n",
      "Cell \u001b[1;32mIn[50], line 10\u001b[0m, in \u001b[0;36mget_data\u001b[1;34m(ticker)\u001b[0m\n\u001b[0;32m      7\u001b[0m store_funds_holding(ticker)\n\u001b[0;32m      8\u001b[0m \u001b[38;5;28mprint\u001b[39m(\u001b[38;5;124mf\u001b[39m\u001b[38;5;124m\"\u001b[39m\u001b[38;5;124mFunds holdings for \u001b[39m\u001b[38;5;132;01m{\u001b[39;00mticker\u001b[38;5;132;01m}\u001b[39;00m\u001b[38;5;124m stored successfully.\u001b[39m\u001b[38;5;124m\"\u001b[39m)\n\u001b[1;32m---> 10\u001b[0m \u001b[43mstore_institutional_shareholders\u001b[49m\u001b[43m(\u001b[49m\u001b[43mticker\u001b[49m\u001b[43m)\u001b[49m\n\u001b[0;32m     11\u001b[0m \u001b[38;5;28mprint\u001b[39m(\u001b[38;5;124mf\u001b[39m\u001b[38;5;124m\"\u001b[39m\u001b[38;5;124mInstitutional shareholders for \u001b[39m\u001b[38;5;132;01m{\u001b[39;00mticker\u001b[38;5;132;01m}\u001b[39;00m\u001b[38;5;124m stored successfully.\u001b[39m\u001b[38;5;124m\"\u001b[39m)\n\u001b[0;32m     13\u001b[0m store_options_data(ticker)\n",
      "Cell \u001b[1;32mIn[46], line 17\u001b[0m, in \u001b[0;36mstore_institutional_shareholders\u001b[1;34m(ticker)\u001b[0m\n\u001b[0;32m     13\u001b[0m df[\u001b[38;5;124m\"\u001b[39m\u001b[38;5;124mticker\u001b[39m\u001b[38;5;124m\"\u001b[39m] \u001b[38;5;241m=\u001b[39m ticker\n\u001b[0;32m     14\u001b[0m df \u001b[38;5;241m=\u001b[39m df\u001b[38;5;241m.\u001b[39mrename(columns\u001b[38;5;241m=\u001b[39m{\u001b[38;5;124m\"\u001b[39m\u001b[38;5;124mHolder\u001b[39m\u001b[38;5;124m\"\u001b[39m: \u001b[38;5;124m\"\u001b[39m\u001b[38;5;124mholder\u001b[39m\u001b[38;5;124m\"\u001b[39m, \u001b[38;5;124m\"\u001b[39m\u001b[38;5;124m%\u001b[39m\u001b[38;5;124m Out\u001b[39m\u001b[38;5;124m\"\u001b[39m: \u001b[38;5;124m\"\u001b[39m\u001b[38;5;124mpct_held\u001b[39m\u001b[38;5;124m\"\u001b[39m, \u001b[38;5;124m\"\u001b[39m\u001b[38;5;124mShares\u001b[39m\u001b[38;5;124m\"\u001b[39m: \u001b[38;5;124m\"\u001b[39m\u001b[38;5;124mshares\u001b[39m\u001b[38;5;124m\"\u001b[39m, \n\u001b[0;32m     15\u001b[0m                         \u001b[38;5;124m\"\u001b[39m\u001b[38;5;124mValue\u001b[39m\u001b[38;5;124m\"\u001b[39m: \u001b[38;5;124m\"\u001b[39m\u001b[38;5;124mvalue\u001b[39m\u001b[38;5;124m\"\u001b[39m, \u001b[38;5;124m\"\u001b[39m\u001b[38;5;124mPct Change\u001b[39m\u001b[38;5;124m\"\u001b[39m: \u001b[38;5;124m\"\u001b[39m\u001b[38;5;124mpct_change\u001b[39m\u001b[38;5;124m\"\u001b[39m})\n\u001b[1;32m---> 17\u001b[0m df \u001b[38;5;241m=\u001b[39m \u001b[43mdf\u001b[49m\u001b[43m[\u001b[49m\u001b[43m[\u001b[49m\u001b[38;5;124;43m\"\u001b[39;49m\u001b[38;5;124;43mticker\u001b[39;49m\u001b[38;5;124;43m\"\u001b[39;49m\u001b[43m,\u001b[49m\u001b[43m \u001b[49m\u001b[38;5;124;43m\"\u001b[39;49m\u001b[38;5;124;43mdate_reported\u001b[39;49m\u001b[38;5;124;43m\"\u001b[39;49m\u001b[43m,\u001b[49m\u001b[43m \u001b[49m\u001b[38;5;124;43m\"\u001b[39;49m\u001b[38;5;124;43mholder\u001b[39;49m\u001b[38;5;124;43m\"\u001b[39;49m\u001b[43m,\u001b[49m\u001b[43m \u001b[49m\u001b[38;5;124;43m\"\u001b[39;49m\u001b[38;5;124;43mpct_held\u001b[39;49m\u001b[38;5;124;43m\"\u001b[39;49m\u001b[43m,\u001b[49m\u001b[43m \u001b[49m\u001b[38;5;124;43m\"\u001b[39;49m\u001b[38;5;124;43mshares\u001b[39;49m\u001b[38;5;124;43m\"\u001b[39;49m\u001b[43m,\u001b[49m\u001b[43m \u001b[49m\u001b[38;5;124;43m\"\u001b[39;49m\u001b[38;5;124;43mvalue\u001b[39;49m\u001b[38;5;124;43m\"\u001b[39;49m\u001b[43m,\u001b[49m\u001b[43m \u001b[49m\u001b[38;5;124;43m\"\u001b[39;49m\u001b[38;5;124;43mpct_change\u001b[39;49m\u001b[38;5;124;43m\"\u001b[39;49m\u001b[43m]\u001b[49m\u001b[43m]\u001b[49m\n\u001b[0;32m     19\u001b[0m df\u001b[38;5;241m.\u001b[39mto_sql(\u001b[38;5;124m\"\u001b[39m\u001b[38;5;124minstitutional_shareholders\u001b[39m\u001b[38;5;124m\"\u001b[39m, engine, if_exists\u001b[38;5;241m=\u001b[39m\u001b[38;5;124m\"\u001b[39m\u001b[38;5;124mappend\u001b[39m\u001b[38;5;124m\"\u001b[39m, index\u001b[38;5;241m=\u001b[39m\u001b[38;5;28;01mFalse\u001b[39;00m)\n\u001b[0;32m     20\u001b[0m \u001b[38;5;28mprint\u001b[39m(\u001b[38;5;124mf\u001b[39m\u001b[38;5;124m\"\u001b[39m\u001b[38;5;124mData for \u001b[39m\u001b[38;5;132;01m{\u001b[39;00mticker\u001b[38;5;132;01m}\u001b[39;00m\u001b[38;5;124m inserted in institutional_shareholders.\u001b[39m\u001b[38;5;124m\"\u001b[39m)\n",
      "File \u001b[1;32mc:\\Users\\jaime\\AppData\\Local\\pypoetry\\Cache\\virtualenvs\\portfolio-advisor-kyHMzyOU-py3.11\\Lib\\site-packages\\pandas\\core\\frame.py:4108\u001b[0m, in \u001b[0;36mDataFrame.__getitem__\u001b[1;34m(self, key)\u001b[0m\n\u001b[0;32m   4106\u001b[0m     \u001b[38;5;28;01mif\u001b[39;00m is_iterator(key):\n\u001b[0;32m   4107\u001b[0m         key \u001b[38;5;241m=\u001b[39m \u001b[38;5;28mlist\u001b[39m(key)\n\u001b[1;32m-> 4108\u001b[0m     indexer \u001b[38;5;241m=\u001b[39m \u001b[38;5;28;43mself\u001b[39;49m\u001b[38;5;241;43m.\u001b[39;49m\u001b[43mcolumns\u001b[49m\u001b[38;5;241;43m.\u001b[39;49m\u001b[43m_get_indexer_strict\u001b[49m\u001b[43m(\u001b[49m\u001b[43mkey\u001b[49m\u001b[43m,\u001b[49m\u001b[43m \u001b[49m\u001b[38;5;124;43m\"\u001b[39;49m\u001b[38;5;124;43mcolumns\u001b[39;49m\u001b[38;5;124;43m\"\u001b[39;49m\u001b[43m)\u001b[49m[\u001b[38;5;241m1\u001b[39m]\n\u001b[0;32m   4110\u001b[0m \u001b[38;5;66;03m# take() does not accept boolean indexers\u001b[39;00m\n\u001b[0;32m   4111\u001b[0m \u001b[38;5;28;01mif\u001b[39;00m \u001b[38;5;28mgetattr\u001b[39m(indexer, \u001b[38;5;124m\"\u001b[39m\u001b[38;5;124mdtype\u001b[39m\u001b[38;5;124m\"\u001b[39m, \u001b[38;5;28;01mNone\u001b[39;00m) \u001b[38;5;241m==\u001b[39m \u001b[38;5;28mbool\u001b[39m:\n",
      "File \u001b[1;32mc:\\Users\\jaime\\AppData\\Local\\pypoetry\\Cache\\virtualenvs\\portfolio-advisor-kyHMzyOU-py3.11\\Lib\\site-packages\\pandas\\core\\indexes\\base.py:6200\u001b[0m, in \u001b[0;36mIndex._get_indexer_strict\u001b[1;34m(self, key, axis_name)\u001b[0m\n\u001b[0;32m   6197\u001b[0m \u001b[38;5;28;01melse\u001b[39;00m:\n\u001b[0;32m   6198\u001b[0m     keyarr, indexer, new_indexer \u001b[38;5;241m=\u001b[39m \u001b[38;5;28mself\u001b[39m\u001b[38;5;241m.\u001b[39m_reindex_non_unique(keyarr)\n\u001b[1;32m-> 6200\u001b[0m \u001b[38;5;28;43mself\u001b[39;49m\u001b[38;5;241;43m.\u001b[39;49m\u001b[43m_raise_if_missing\u001b[49m\u001b[43m(\u001b[49m\u001b[43mkeyarr\u001b[49m\u001b[43m,\u001b[49m\u001b[43m \u001b[49m\u001b[43mindexer\u001b[49m\u001b[43m,\u001b[49m\u001b[43m \u001b[49m\u001b[43maxis_name\u001b[49m\u001b[43m)\u001b[49m\n\u001b[0;32m   6202\u001b[0m keyarr \u001b[38;5;241m=\u001b[39m \u001b[38;5;28mself\u001b[39m\u001b[38;5;241m.\u001b[39mtake(indexer)\n\u001b[0;32m   6203\u001b[0m \u001b[38;5;28;01mif\u001b[39;00m \u001b[38;5;28misinstance\u001b[39m(key, Index):\n\u001b[0;32m   6204\u001b[0m     \u001b[38;5;66;03m# GH 42790 - Preserve name from an Index\u001b[39;00m\n",
      "File \u001b[1;32mc:\\Users\\jaime\\AppData\\Local\\pypoetry\\Cache\\virtualenvs\\portfolio-advisor-kyHMzyOU-py3.11\\Lib\\site-packages\\pandas\\core\\indexes\\base.py:6252\u001b[0m, in \u001b[0;36mIndex._raise_if_missing\u001b[1;34m(self, key, indexer, axis_name)\u001b[0m\n\u001b[0;32m   6249\u001b[0m     \u001b[38;5;28;01mraise\u001b[39;00m \u001b[38;5;167;01mKeyError\u001b[39;00m(\u001b[38;5;124mf\u001b[39m\u001b[38;5;124m\"\u001b[39m\u001b[38;5;124mNone of [\u001b[39m\u001b[38;5;132;01m{\u001b[39;00mkey\u001b[38;5;132;01m}\u001b[39;00m\u001b[38;5;124m] are in the [\u001b[39m\u001b[38;5;132;01m{\u001b[39;00maxis_name\u001b[38;5;132;01m}\u001b[39;00m\u001b[38;5;124m]\u001b[39m\u001b[38;5;124m\"\u001b[39m)\n\u001b[0;32m   6251\u001b[0m not_found \u001b[38;5;241m=\u001b[39m \u001b[38;5;28mlist\u001b[39m(ensure_index(key)[missing_mask\u001b[38;5;241m.\u001b[39mnonzero()[\u001b[38;5;241m0\u001b[39m]]\u001b[38;5;241m.\u001b[39munique())\n\u001b[1;32m-> 6252\u001b[0m \u001b[38;5;28;01mraise\u001b[39;00m \u001b[38;5;167;01mKeyError\u001b[39;00m(\u001b[38;5;124mf\u001b[39m\u001b[38;5;124m\"\u001b[39m\u001b[38;5;132;01m{\u001b[39;00mnot_found\u001b[38;5;132;01m}\u001b[39;00m\u001b[38;5;124m not in index\u001b[39m\u001b[38;5;124m\"\u001b[39m)\n",
      "\u001b[1;31mKeyError\u001b[0m: \"['pct_held', 'pct_change'] not in index\""
     ]
    }
   ],
   "source": [
    "get_data(ticker)"
   ]
  },
  {
   "cell_type": "code",
   "execution_count": 73,
   "metadata": {},
   "outputs": [
    {
     "name": "stdout",
     "output_type": "stream",
     "text": [
      "Table historical_prices has been emptied.\n",
      "Table funds_holdings has been emptied.\n",
      "Table institutional_shareholders has been emptied.\n",
      "Table options_data has been emptied.\n",
      "Table quarterly_financials has been emptied.\n",
      "Table analyst_recommendations has been emptied.\n",
      "Table analyst_recommendations_period has been emptied.\n",
      "Table company_info has been emptied.\n",
      "Table news_data has been emptied.\n",
      "All tables have been emptied successfully.\n"
     ]
    }
   ],
   "source": [
    "eliminate_data()"
   ]
  },
  {
   "cell_type": "markdown",
   "metadata": {},
   "source": [
    "# Try historical_prices"
   ]
  },
  {
   "cell_type": "code",
   "execution_count": 63,
   "metadata": {},
   "outputs": [
    {
     "name": "stderr",
     "output_type": "stream",
     "text": [
      "[*********************100%***********************]  1 of 1 completed\n"
     ]
    }
   ],
   "source": [
    "engine = connect_db()\n",
    "    \n",
    "df = yf.download(ticker, period='5y')\n",
    "\n",
    "df = df.reset_index()\n",
    "df[\"ticker\"] = ticker\n",
    "\n",
    "df = df.rename(columns={\"Date\": \"date\", \"Open\": \"open_price\", \"High\": \"high_price\",\n",
    "                        \"Low\": \"low_price\", \"Close\": \"close_price\",\n",
    "                        \"Volume\": \"volume\"})\n",
    "\n",
    "\n"
   ]
  },
  {
   "cell_type": "code",
   "execution_count": null,
   "metadata": {},
   "outputs": [
    {
     "data": {
      "text/html": [
       "<div>\n",
       "<style scoped>\n",
       "    .dataframe tbody tr th:only-of-type {\n",
       "        vertical-align: middle;\n",
       "    }\n",
       "\n",
       "    .dataframe tbody tr th {\n",
       "        vertical-align: top;\n",
       "    }\n",
       "\n",
       "    .dataframe thead tr th {\n",
       "        text-align: left;\n",
       "    }\n",
       "</style>\n",
       "<table border=\"1\" class=\"dataframe\">\n",
       "  <thead>\n",
       "    <tr>\n",
       "      <th>Price</th>\n",
       "      <th>date</th>\n",
       "      <th>close_price</th>\n",
       "      <th>high_price</th>\n",
       "      <th>low_price</th>\n",
       "      <th>open_price</th>\n",
       "      <th>volume</th>\n",
       "      <th>ticker</th>\n",
       "    </tr>\n",
       "    <tr>\n",
       "      <th>Ticker</th>\n",
       "      <th></th>\n",
       "      <th>MSFT</th>\n",
       "      <th>MSFT</th>\n",
       "      <th>MSFT</th>\n",
       "      <th>MSFT</th>\n",
       "      <th>MSFT</th>\n",
       "      <th></th>\n",
       "    </tr>\n",
       "  </thead>\n",
       "  <tbody>\n",
       "    <tr>\n",
       "      <th>0</th>\n",
       "      <td>2020-02-27</td>\n",
       "      <td>151.406540</td>\n",
       "      <td>159.877578</td>\n",
       "      <td>151.215107</td>\n",
       "      <td>156.326453</td>\n",
       "      <td>93174900</td>\n",
       "      <td>MSFT</td>\n",
       "    </tr>\n",
       "    <tr>\n",
       "      <th>1</th>\n",
       "      <td>2020-02-28</td>\n",
       "      <td>155.072479</td>\n",
       "      <td>156.699694</td>\n",
       "      <td>145.491128</td>\n",
       "      <td>145.883575</td>\n",
       "      <td>97012700</td>\n",
       "      <td>MSFT</td>\n",
       "    </tr>\n",
       "    <tr>\n",
       "      <th>2</th>\n",
       "      <td>2020-03-02</td>\n",
       "      <td>165.390930</td>\n",
       "      <td>165.515368</td>\n",
       "      <td>155.359700</td>\n",
       "      <td>158.231236</td>\n",
       "      <td>71030800</td>\n",
       "      <td>MSFT</td>\n",
       "    </tr>\n",
       "    <tr>\n",
       "      <th>3</th>\n",
       "      <td>2020-03-03</td>\n",
       "      <td>157.465439</td>\n",
       "      <td>167.506247</td>\n",
       "      <td>155.311787</td>\n",
       "      <td>166.357636</td>\n",
       "      <td>71677000</td>\n",
       "      <td>MSFT</td>\n",
       "    </tr>\n",
       "    <tr>\n",
       "      <th>4</th>\n",
       "      <td>2020-03-04</td>\n",
       "      <td>163.246841</td>\n",
       "      <td>163.390412</td>\n",
       "      <td>158.527943</td>\n",
       "      <td>161.275056</td>\n",
       "      <td>49814400</td>\n",
       "      <td>MSFT</td>\n",
       "    </tr>\n",
       "  </tbody>\n",
       "</table>\n",
       "</div>"
      ],
      "text/plain": [
       "Price        date close_price  high_price   low_price  open_price    volume  \\\n",
       "Ticker                   MSFT        MSFT        MSFT        MSFT      MSFT   \n",
       "0      2020-02-27  151.406540  159.877578  151.215107  156.326453  93174900   \n",
       "1      2020-02-28  155.072479  156.699694  145.491128  145.883575  97012700   \n",
       "2      2020-03-02  165.390930  165.515368  155.359700  158.231236  71030800   \n",
       "3      2020-03-03  157.465439  167.506247  155.311787  166.357636  71677000   \n",
       "4      2020-03-04  163.246841  163.390412  158.527943  161.275056  49814400   \n",
       "\n",
       "Price  ticker  \n",
       "Ticker         \n",
       "0        MSFT  \n",
       "1        MSFT  \n",
       "2        MSFT  \n",
       "3        MSFT  \n",
       "4        MSFT  "
      ]
     },
     "execution_count": 64,
     "metadata": {},
     "output_type": "execute_result"
    }
   ],
   "source": [
    "df.head()"
   ]
  },
  {
   "cell_type": "code",
   "execution_count": 67,
   "metadata": {},
   "outputs": [
    {
     "data": {
      "text/html": [
       "<div>\n",
       "<style scoped>\n",
       "    .dataframe tbody tr th:only-of-type {\n",
       "        vertical-align: middle;\n",
       "    }\n",
       "\n",
       "    .dataframe tbody tr th {\n",
       "        vertical-align: top;\n",
       "    }\n",
       "\n",
       "    .dataframe thead th {\n",
       "        text-align: right;\n",
       "    }\n",
       "</style>\n",
       "<table border=\"1\" class=\"dataframe\">\n",
       "  <thead>\n",
       "    <tr style=\"text-align: right;\">\n",
       "      <th></th>\n",
       "      <th>date</th>\n",
       "      <th>close_price</th>\n",
       "      <th>high_price</th>\n",
       "      <th>low_price</th>\n",
       "      <th>open_price</th>\n",
       "      <th>volume</th>\n",
       "      <th>ticker</th>\n",
       "    </tr>\n",
       "  </thead>\n",
       "  <tbody>\n",
       "    <tr>\n",
       "      <th>0</th>\n",
       "      <td>2020-02-27</td>\n",
       "      <td>151.406540</td>\n",
       "      <td>159.877578</td>\n",
       "      <td>151.215107</td>\n",
       "      <td>156.326453</td>\n",
       "      <td>93174900</td>\n",
       "      <td>MSFT</td>\n",
       "    </tr>\n",
       "    <tr>\n",
       "      <th>1</th>\n",
       "      <td>2020-02-28</td>\n",
       "      <td>155.072479</td>\n",
       "      <td>156.699694</td>\n",
       "      <td>145.491128</td>\n",
       "      <td>145.883575</td>\n",
       "      <td>97012700</td>\n",
       "      <td>MSFT</td>\n",
       "    </tr>\n",
       "    <tr>\n",
       "      <th>2</th>\n",
       "      <td>2020-03-02</td>\n",
       "      <td>165.390930</td>\n",
       "      <td>165.515368</td>\n",
       "      <td>155.359700</td>\n",
       "      <td>158.231236</td>\n",
       "      <td>71030800</td>\n",
       "      <td>MSFT</td>\n",
       "    </tr>\n",
       "    <tr>\n",
       "      <th>3</th>\n",
       "      <td>2020-03-03</td>\n",
       "      <td>157.465439</td>\n",
       "      <td>167.506247</td>\n",
       "      <td>155.311787</td>\n",
       "      <td>166.357636</td>\n",
       "      <td>71677000</td>\n",
       "      <td>MSFT</td>\n",
       "    </tr>\n",
       "    <tr>\n",
       "      <th>4</th>\n",
       "      <td>2020-03-04</td>\n",
       "      <td>163.246841</td>\n",
       "      <td>163.390412</td>\n",
       "      <td>158.527943</td>\n",
       "      <td>161.275056</td>\n",
       "      <td>49814400</td>\n",
       "      <td>MSFT</td>\n",
       "    </tr>\n",
       "    <tr>\n",
       "      <th>...</th>\n",
       "      <td>...</td>\n",
       "      <td>...</td>\n",
       "      <td>...</td>\n",
       "      <td>...</td>\n",
       "      <td>...</td>\n",
       "      <td>...</td>\n",
       "      <td>...</td>\n",
       "    </tr>\n",
       "    <tr>\n",
       "      <th>1253</th>\n",
       "      <td>2025-02-21</td>\n",
       "      <td>408.209991</td>\n",
       "      <td>418.049988</td>\n",
       "      <td>407.890015</td>\n",
       "      <td>417.339996</td>\n",
       "      <td>27524800</td>\n",
       "      <td>MSFT</td>\n",
       "    </tr>\n",
       "    <tr>\n",
       "      <th>1254</th>\n",
       "      <td>2025-02-24</td>\n",
       "      <td>404.000000</td>\n",
       "      <td>409.369995</td>\n",
       "      <td>399.320007</td>\n",
       "      <td>408.510010</td>\n",
       "      <td>26443700</td>\n",
       "      <td>MSFT</td>\n",
       "    </tr>\n",
       "    <tr>\n",
       "      <th>1255</th>\n",
       "      <td>2025-02-25</td>\n",
       "      <td>397.899994</td>\n",
       "      <td>401.920013</td>\n",
       "      <td>396.700012</td>\n",
       "      <td>401.100006</td>\n",
       "      <td>29387400</td>\n",
       "      <td>MSFT</td>\n",
       "    </tr>\n",
       "    <tr>\n",
       "      <th>1256</th>\n",
       "      <td>2025-02-26</td>\n",
       "      <td>399.730011</td>\n",
       "      <td>403.600006</td>\n",
       "      <td>394.250000</td>\n",
       "      <td>398.010010</td>\n",
       "      <td>19619000</td>\n",
       "      <td>MSFT</td>\n",
       "    </tr>\n",
       "    <tr>\n",
       "      <th>1257</th>\n",
       "      <td>2025-02-27</td>\n",
       "      <td>393.299988</td>\n",
       "      <td>405.739990</td>\n",
       "      <td>392.839996</td>\n",
       "      <td>401.265015</td>\n",
       "      <td>13836794</td>\n",
       "      <td>MSFT</td>\n",
       "    </tr>\n",
       "  </tbody>\n",
       "</table>\n",
       "<p>1258 rows × 7 columns</p>\n",
       "</div>"
      ],
      "text/plain": [
       "           date  close_price  high_price   low_price  open_price    volume  \\\n",
       "0    2020-02-27   151.406540  159.877578  151.215107  156.326453  93174900   \n",
       "1    2020-02-28   155.072479  156.699694  145.491128  145.883575  97012700   \n",
       "2    2020-03-02   165.390930  165.515368  155.359700  158.231236  71030800   \n",
       "3    2020-03-03   157.465439  167.506247  155.311787  166.357636  71677000   \n",
       "4    2020-03-04   163.246841  163.390412  158.527943  161.275056  49814400   \n",
       "...         ...          ...         ...         ...         ...       ...   \n",
       "1253 2025-02-21   408.209991  418.049988  407.890015  417.339996  27524800   \n",
       "1254 2025-02-24   404.000000  409.369995  399.320007  408.510010  26443700   \n",
       "1255 2025-02-25   397.899994  401.920013  396.700012  401.100006  29387400   \n",
       "1256 2025-02-26   399.730011  403.600006  394.250000  398.010010  19619000   \n",
       "1257 2025-02-27   393.299988  405.739990  392.839996  401.265015  13836794   \n",
       "\n",
       "     ticker  \n",
       "0      MSFT  \n",
       "1      MSFT  \n",
       "2      MSFT  \n",
       "3      MSFT  \n",
       "4      MSFT  \n",
       "...     ...  \n",
       "1253   MSFT  \n",
       "1254   MSFT  \n",
       "1255   MSFT  \n",
       "1256   MSFT  \n",
       "1257   MSFT  \n",
       "\n",
       "[1258 rows x 7 columns]"
      ]
     },
     "execution_count": 67,
     "metadata": {},
     "output_type": "execute_result"
    }
   ],
   "source": [
    "preprocess_stock_data(df)"
   ]
  },
  {
   "cell_type": "code",
   "execution_count": 68,
   "metadata": {},
   "outputs": [
    {
     "name": "stdout",
     "output_type": "stream",
     "text": [
      "DataMSFT inserted in historical_prices.\n"
     ]
    }
   ],
   "source": [
    "df.to_sql(\"historical_prices\", engine, if_exists=\"append\", index=False)\n",
    "\n",
    "\n",
    "print(f\"Data{ticker} inserted in historical_prices.\")"
   ]
  },
  {
   "cell_type": "markdown",
   "metadata": {},
   "source": [
    "## Delete"
   ]
  },
  {
   "cell_type": "code",
   "execution_count": 70,
   "metadata": {},
   "outputs": [
    {
     "name": "stdout",
     "output_type": "stream",
     "text": [
      "Datos históricos de MSFT eliminados de historical_prices.\n"
     ]
    }
   ],
   "source": [
    "delete_historical_prices(ticker)"
   ]
  },
  {
   "cell_type": "markdown",
   "metadata": {},
   "source": [
    "# Try with the rest if needed and fix columns"
   ]
  },
  {
   "cell_type": "code",
   "execution_count": null,
   "metadata": {},
   "outputs": [],
   "source": []
  }
 ],
 "metadata": {
  "kernelspec": {
   "display_name": "portfolio-advisor-kyHMzyOU-py3.11",
   "language": "python",
   "name": "python3"
  },
  "language_info": {
   "codemirror_mode": {
    "name": "ipython",
    "version": 3
   },
   "file_extension": ".py",
   "mimetype": "text/x-python",
   "name": "python",
   "nbconvert_exporter": "python",
   "pygments_lexer": "ipython3",
   "version": "3.11.4"
  }
 },
 "nbformat": 4,
 "nbformat_minor": 2
}
