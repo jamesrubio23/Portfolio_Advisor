{
 "cells": [
  {
   "cell_type": "markdown",
   "metadata": {},
   "source": [
    "After creating the database the next step is to create the automatitazion of downloading data from yfinance and finvizfinance and store it in the database"
   ]
  },
  {
   "cell_type": "code",
   "execution_count": null,
   "metadata": {},
   "outputs": [],
   "source": [
    "from sqlalchemy import create_engine\n",
    "import pandas as pd\n",
    "import yfinance\n"
   ]
  },
  {
   "cell_type": "code",
   "execution_count": null,
   "metadata": {},
   "outputs": [],
   "source": [
    "\n",
    "\n",
    "def connect_db():\n",
    "\n",
    "\n",
    "    load_dotenv()  # Cargar variables de entorno desde .env\n",
    "\n",
    "    USER = os.getenv(\"DB_USER\")\n",
    "    PASSWORD = os.getenv(\"DB_PASSWORD\")\n",
    "    HOST = os.getenv(\"DB_HOST\")\n",
    "    PORT = os.getenv(\"DB_PORT\")\n",
    "    DB_NAME = os.getenv(\"DB_NAME\")\n",
    "    \n",
    "\n",
    "    engine = create_engine(f\"postgresql://{USER}:{PASSWORD}@{HOST}:{PORT}/{DB_NAME}\")\n",
    "    return engine\n"
   ]
  },
  {
   "cell_type": "code",
   "execution_count": null,
   "metadata": {},
   "outputs": [],
   "source": [
    "def store_historical_prices(ticker):\n",
    "    \"\"\"Descarga y almacena precios históricos en PostgreSQL.\"\"\"\n",
    "    engine = connect_db()\n",
    "    \n",
    "    df = yf.download(ticker, period=\"5y\")\n",
    "    \n",
    "    df = df.reset_index()\n",
    "    df[\"ticker\"] = ticker\n",
    "    df = df.rename(columns={\"Date\": \"date\", \"Open\": \"open_price\", \"High\": \"high_price\",\n",
    "                            \"Low\": \"low_price\", \"Close\": \"close_price\", \"Adj Close\": \"adj_close_price\",\n",
    "                            \"Volume\": \"volume\"})\n",
    "    \n",
    "    df.to_sql(\"historical_prices\", engine, if_exists=\"append\", index=False)\n",
    "    print(f\"Datos de {ticker} insertados en historical_prices.\")\n"
   ]
  },
  {
   "cell_type": "code",
   "execution_count": null,
   "metadata": {},
   "outputs": [],
   "source": [
    "def store_company_info(ticker):\n",
    "    \"\"\"Descarga y almacena información de la empresa en PostgreSQL.\"\"\"\n",
    "    engine = connect_db()\n",
    "    stock = yf.Ticker(ticker)\n",
    "    info = stock.info\n",
    "    \n",
    "    # Crear un DataFrame con la información clave\n",
    "    df = pd.DataFrame([{\n",
    "        \"ticker\": ticker,\n",
    "        \"name\": info.get(\"longName\", \"\"),\n",
    "        \"sector\": info.get(\"sector\", \"\"),\n",
    "        \"industry\": info.get(\"industry\", \"\"),\n",
    "        \"market_cap\": info.get(\"marketCap\"),\n",
    "        \"enterprise_value\": info.get(\"enterpriseValue\"),\n",
    "        \"total_revenue\": info.get(\"totalRevenue\"),\n",
    "        \"ebitda\": info.get(\"ebitda\"),\n",
    "        \"net_income\": info.get(\"netIncomeToCommon\"),\n",
    "        \"total_debt\": info.get(\"totalDebt\"),\n",
    "        \"free_cashflow\": info.get(\"freeCashflow\"),\n",
    "        \"return_on_assets\": info.get(\"returnOnAssets\"),\n",
    "        \"return_on_equity\": info.get(\"returnOnEquity\"),\n",
    "        \"trailing_pe\": info.get(\"trailingPE\"),\n",
    "        \"forward_pe\": info.get(\"forwardPE\"),\n",
    "        \"price_to_sales\": info.get(\"priceToSalesTrailing12Months\"),\n",
    "        \"price_to_book\": info.get(\"priceToBook\"),\n",
    "        \"dividend_rate\": info.get(\"dividendRate\"),\n",
    "        \"dividend_yield\": info.get(\"dividendYield\"),\n",
    "        \"payout_ratio\": info.get(\"payoutRatio\"),\n",
    "        \"shares_outstanding\": info.get(\"sharesOutstanding\"),\n",
    "        \"held_percent_institutions\": info.get(\"heldPercentInstitutions\"),\n",
    "        \"held_percent_insiders\": info.get(\"heldPercentInsiders\"),\n",
    "        \"beta\": info.get(\"beta\"),\n",
    "        \"fifty_two_week_high\": info.get(\"fiftyTwoWeekHigh\"),\n",
    "        \"fifty_two_week_low\": info.get(\"fiftyTwoWeekLow\"),\n",
    "        \"earnings_growth\": info.get(\"earningsGrowth\"),\n",
    "        \"revenue_growth\": info.get(\"revenueGrowth\"),\n",
    "        \"profit_margins\": info.get(\"profitMargins\"),\n",
    "        \"gross_margins\": info.get(\"grossMargins\"),\n",
    "        \"operating_margins\": info.get(\"operatingMargins\"),\n",
    "        \"ebitda_margins\": info.get(\"ebitdaMargins\"),\n",
    "        \"target_high_price\": info.get(\"targetHighPrice\"),\n",
    "        \"target_low_price\": info.get(\"targetLowPrice\"),\n",
    "        \"target_mean_price\": info.get(\"targetMeanPrice\"),\n",
    "        \"recommendation_mean\": info.get(\"recommendationMean\"),\n",
    "        \"recommendation_key\": info.get(\"recommendationKey\"),\n",
    "        \"number_of_analyst_opinions\": info.get(\"numberOfAnalystOpinions\"),\n",
    "    }])\n",
    "\n",
    "\n",
    "    df.to_sql(\"company_info\", engine, if_exists=\"append\", index=False)\n",
    "    print(f\"Datos de {ticker} insertados en company_info.\")\n"
   ]
  }
 ],
 "metadata": {
  "kernelspec": {
   "display_name": "portfolio-advisor-kyHMzyOU-py3.11",
   "language": "python",
   "name": "python3"
  },
  "language_info": {
   "codemirror_mode": {
    "name": "ipython",
    "version": 3
   },
   "file_extension": ".py",
   "mimetype": "text/x-python",
   "name": "python",
   "nbconvert_exporter": "python",
   "pygments_lexer": "ipython3",
   "version": "3.11.4"
  }
 },
 "nbformat": 4,
 "nbformat_minor": 2
}
